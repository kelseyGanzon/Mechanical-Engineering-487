{
 "cells": [
  {
   "cell_type": "code",
   "execution_count": 107,
   "metadata": {},
   "outputs": [],
   "source": [
    "#calculating Velocity\n",
    "def Velocity():\n",
    "    phi=[5e-06,50e-06,100e-06,250e-06,500e-06,1000e-06]\n",
    "    A=[3.06e-08,3.06e-08,3.06e-08,3.06e-08,3.06e-08,3.06e-08]\n",
    "    V=[]\n",
    "    for i in range(6):\n",
    "        V.append(phi[i]/A[i])\n",
    "    print(V)"
   ]
  },
  {
   "cell_type": "code",
   "execution_count": 108,
   "metadata": {},
   "outputs": [
    {
     "name": "stdout",
     "output_type": "stream",
     "text": [
      "[163.3986928104575, 1633.986928104575, 3267.97385620915, 8169.934640522875, 16339.86928104575, 32679.7385620915]\n"
     ]
    }
   ],
   "source": [
    "Velocity()"
   ]
  },
  {
   "cell_type": "code",
   "execution_count": 110,
   "metadata": {},
   "outputs": [],
   "source": [
    "def velocityconvert():\n",
    "    v=[163.3986928104575, 1633.986928104575, 3267.97385620915, 8169.934640522875, 16339.86928104575, 32679.7385620915]\n",
    "    c= [60,60,60,60,60,60]\n",
    "    vc=[]\n",
    "    for i in range(6):\n",
    "        vc.append(v[i]/c[i])\n",
    "    print(vc)\n",
    "\n"
   ]
  },
  {
   "cell_type": "code",
   "execution_count": 111,
   "metadata": {},
   "outputs": [
    {
     "name": "stdout",
     "output_type": "stream",
     "text": [
      "[2.7233115468409586, 27.233115468409586, 54.46623093681917, 136.16557734204792, 272.33115468409585, 544.6623093681917]\n"
     ]
    }
   ],
   "source": [
    "velocityconvert()"
   ]
  },
  {
   "cell_type": "code",
   "execution_count": 71,
   "metadata": {},
   "outputs": [
    {
     "name": "stdout",
     "output_type": "stream",
     "text": [
      "0.00015133333333333334\n",
      "0.03026666666666667\n"
     ]
    }
   ],
   "source": [
    "h=(153+152.6+148.4)/3\n",
    "print(h*10**-6)\n",
    "A=(0.000200)*h\n",
    "print(A)"
   ]
  },
  {
   "cell_type": "code",
   "execution_count": 113,
   "metadata": {},
   "outputs": [],
   "source": [
    "#calculating the length\n",
    "def channelLength():\n",
    "    A=[3.06e-08,3.06e-08,3.06e-08,3.06e-08,3.06e-08]\n",
    "    h=[0.00015133333333333334,0.00015133333333333334,0.00015133333333333334,0.00015133333333333334,0.00015133333333333334]\n",
    "    b=[200e-06,200e-06,200e-06,200e-06,200e-06]\n",
    "    L=[]\n",
    "    for i in range(5):\n",
    "        L.append((4*A[i])/(2*(b[i]+h[i])))\n",
    "    print(L)"
   ]
  },
  {
   "cell_type": "code",
   "execution_count": 114,
   "metadata": {},
   "outputs": [
    {
     "name": "stdout",
     "output_type": "stream",
     "text": [
      "[0.00017419354838709678, 0.00017419354838709678, 0.00017419354838709678, 0.00017419354838709678, 0.00017419354838709678]\n"
     ]
    }
   ],
   "source": [
    "channelLength()"
   ]
  },
  {
   "cell_type": "code",
   "execution_count": 121,
   "metadata": {},
   "outputs": [],
   "source": [
    "#Calculating the reynolds number \n",
    "def Reynolds():\n",
    "\n",
    "    p=[997,997,997,997,997,997]\n",
    "    V=[2.7233115468409586, 27.233115468409586, 54.46623093681917, 136.16557734204792, 272.33115468409585, 544.6623093681917]\n",
    "    mu=[8.9e-04,8.9e-04,8.9e-04,8.9e-04,8.9e-04,8.9e-04]\n",
    "    L=[0.00017419354838709678, 0.00017419354838709678, 0.00017419354838709678, 0.00017419354838709678, 0.00017419354838709678,0.00017419354838709678]\n",
    "    R=[]\n",
    "    for i in range(6):\n",
    "        R.append((p[i]*V[i]*L[i])/mu[i])\n",
    "    print(R)"
   ]
  },
  {
   "cell_type": "code",
   "execution_count": 122,
   "metadata": {},
   "outputs": [
    {
     "name": "stdout",
     "output_type": "stream",
     "text": [
      "[531.4159009018613, 5314.159009018613, 10628.318018037226, 26570.795045093062, 53141.590090186124, 106283.18018037225]\n"
     ]
    }
   ],
   "source": [
    "Reynolds()"
   ]
  },
  {
   "cell_type": "code",
   "execution_count": 55,
   "metadata": {},
   "outputs": [
    {
     "name": "stdout",
     "output_type": "stream",
     "text": [
      "3.1415899999999996e-08\n"
     ]
    }
   ],
   "source": [
    "A= (100*10**-6)**2 * 3.14159\n",
    "print(A)"
   ]
  },
  {
   "cell_type": "code",
   "execution_count": 126,
   "metadata": {},
   "outputs": [],
   "source": [
    "#calculating Velocity Circle\n",
    "def VelocityCirc():\n",
    "    phi=[5e-06,50e-06,100e-06,250e-06,500e-06,1000e-06]\n",
    "    A=[3.1415899999999996e-08,3.1415899999999996e-08,3.1415899999999996e-08,3.1415899999999996e-08,3.1415899999999996e-08,3.1415899999999996e-08]\n",
    "    V=[]\n",
    "    for i in range(6):\n",
    "        V.append(phi[i]/A[i])\n",
    "    print(V)"
   ]
  },
  {
   "cell_type": "code",
   "execution_count": 127,
   "metadata": {},
   "outputs": [
    {
     "name": "stdout",
     "output_type": "stream",
     "text": [
      "[159.1550775244383, 1591.550775244383, 3183.101550488766, 7957.753876221915, 15915.50775244383, 31831.01550488766]\n"
     ]
    }
   ],
   "source": [
    "VelocityCirc()"
   ]
  },
  {
   "cell_type": "code",
   "execution_count": 128,
   "metadata": {},
   "outputs": [],
   "source": [
    "def velocityconvertcir():\n",
    "    v=[159.1550775244383, 1591.550775244383, 3183.101550488766, 7957.753876221915, 15915.50775244383, 31831.01550488766]\n",
    "    c= [60,60,60,60,60,60]\n",
    "    vc=[]\n",
    "    for i in range(6):\n",
    "        vc.append(v[i]/c[i])\n",
    "    print(vc)\n",
    "\n"
   ]
  },
  {
   "cell_type": "code",
   "execution_count": 129,
   "metadata": {},
   "outputs": [
    {
     "name": "stdout",
     "output_type": "stream",
     "text": [
      "[2.652584625407305, 26.52584625407305, 53.0516925081461, 132.62923127036524, 265.2584625407305, 530.516925081461]\n"
     ]
    }
   ],
   "source": [
    "velocityconvertcir()"
   ]
  },
  {
   "cell_type": "code",
   "execution_count": 130,
   "metadata": {},
   "outputs": [],
   "source": [
    "#Calculating the reynolds number for circular diameter\n",
    "def ReynoldsCirc():\n",
    "\n",
    "    p=[997,997,997,997,997,997]\n",
    "    V=[2.652584625407305, 26.52584625407305, 53.0516925081461, 132.62923127036524, 265.2584625407305, 530.516925081461]\n",
    "    mu=[8.9e-4,8.9e-4,8.9e-4,8.9e-4,8.9e-4,8.9e-04]\n",
    "    L=[200e-6,200e-6,200e-6,200e-6,200e-6,200e-06]\n",
    "    R=[]\n",
    "    for i in range(6):\n",
    "        R.append((p[i]*V[i]*L[i])/mu[i])\n",
    "    print(R)"
   ]
  },
  {
   "cell_type": "code",
   "execution_count": 131,
   "metadata": {},
   "outputs": [
    {
     "name": "stdout",
     "output_type": "stream",
     "text": [
      "[594.2981733777716, 5942.981733777715, 11885.96346755543, 29714.908668888576, 59429.81733777715, 118859.6346755543]\n"
     ]
    }
   ],
   "source": [
    "ReynoldsCirc()"
   ]
  }
 ],
 "metadata": {
  "kernelspec": {
   "display_name": "Python 3",
   "language": "python",
   "name": "python3"
  },
  "language_info": {
   "codemirror_mode": {
    "name": "ipython",
    "version": 3
   },
   "file_extension": ".py",
   "mimetype": "text/x-python",
   "name": "python",
   "nbconvert_exporter": "python",
   "pygments_lexer": "ipython3",
   "version": "3.12.1"
  }
 },
 "nbformat": 4,
 "nbformat_minor": 2
}
