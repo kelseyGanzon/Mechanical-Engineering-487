{
 "cells": [
  {
   "cell_type": "code",
   "execution_count": 9,
   "metadata": {},
   "outputs": [],
   "source": [
    "import numpy as np\n",
    "import matplotlib\n",
    "import numpy as np\n",
    "import matplotlib.pyplot as plt\n",
    "from mpl_toolkits.mplot3d import Axes3D"
   ]
  },
  {
   "cell_type": "code",
   "execution_count": 10,
   "metadata": {},
   "outputs": [],
   "source": [
    "# calculating affective resistor length\n",
    "def ResistorLength():\n",
    "    w = [60,40,40,30]\n",
    "    g = [80,60,60,50]\n",
    "    b = [7500,5500,3500,1500]\n",
    "    n = [4,4,6,8]\n",
    "\n",
    "    L = []\n",
    "\n",
    "    for i in range(4):\n",
    "        L.append(n[i] * b[i] +(n[i]-1) * g[i]  )\n",
    "\n",
    "    print(L)"
   ]
  },
  {
   "cell_type": "code",
   "execution_count": 11,
   "metadata": {},
   "outputs": [
    {
     "name": "stdout",
     "output_type": "stream",
     "text": [
      "[30240, 22180, 21300, 12350]\n"
     ]
    }
   ],
   "source": [
    "ResistorLength()"
   ]
  },
  {
   "cell_type": "code",
   "execution_count": 12,
   "metadata": {},
   "outputs": [],
   "source": [
    "def ResistorLengthExp():\n",
    "     w = [53.62\t,54.44,\t52.10,\t57.60]\n",
    "     g = [50.44\t,45.78\t,42.32\t,53.24]\n",
    "     b = [7500,5500,3500,1500]\n",
    "     n = [4,4,6,8]\n",
    "\n",
    "     Lexp = []\n",
    "\n",
    "     for i in range(4):\n",
    "        Lexp.append(n[i] * b[i] +(n[i]-1) * g[i]  )\n",
    "\n",
    "     print(Lexp)\n",
    "\n",
    "\n"
   ]
  },
  {
   "cell_type": "code",
   "execution_count": 13,
   "metadata": {},
   "outputs": [
    {
     "name": "stdout",
     "output_type": "stream",
     "text": [
      "[30151.32, 22137.34, 21211.6, 12372.68]\n"
     ]
    }
   ],
   "source": [
    "ResistorLengthExp()"
   ]
  },
  {
   "cell_type": "code",
   "execution_count": 14,
   "metadata": {},
   "outputs": [],
   "source": [
    "#calcuate standard deviation for Length\n",
    "def SigmaResistorLength():\n",
    "    n = [4,4,6,8]\n",
    "    Sig_g =[10.179, 2.423, 9.559, 13.840]\n",
    "    Sig_b=[7.184 ,6.801 ,8.733 , 4.642] #8,6,4,2\n",
    "    Sig_L=[]\n",
    "\n",
    "    for i in range(4):\n",
    "        Sig_L.append((n[i]*Sig_b[i])**2+((n[i]-1)*Sig_g[i])**2)\n",
    "\n",
    "    print(np.sqrt(Sig_L))"
   ]
  },
  {
   "cell_type": "code",
   "execution_count": 15,
   "metadata": {},
   "outputs": [
    {
     "name": "stdout",
     "output_type": "stream",
     "text": [
      "[ 41.93168331  28.15840864  70.92187553 103.75363558]\n"
     ]
    }
   ],
   "source": [
    "SigmaResistorLength()"
   ]
  },
  {
   "cell_type": "code",
   "execution_count": 16,
   "metadata": {},
   "outputs": [],
   "source": [
    "# Table 3 values and calculations \n",
    "def Resistance():\n",
    "    p= 0.129\n",
    "    w = [53.62\t,54.44,\t52.10,\t57.60] #4 6 8 2\n",
    "    L = [30151.32, 22137.34, 21211.6, 12372.68] \n",
    "    t = [36,48.44,52.10,57.60] \n",
    "    R = []\n",
    "    for i in range(4):\n",
    "        R.append((p*L[i])/(w[i]*t[i]))\n",
    "    print(R)\n"
   ]
  },
  {
   "cell_type": "code",
   "execution_count": 17,
   "metadata": {},
   "outputs": [
    {
     "name": "stdout",
     "output_type": "stream",
     "text": [
      "[2.014961395001865, 1.0829113226115494, 1.0080630413238971, 0.4810702763310185]\n"
     ]
    }
   ],
   "source": [
    "Resistance()"
   ]
  },
  {
   "cell_type": "code",
   "execution_count": 18,
   "metadata": {},
   "outputs": [],
   "source": [
    "#calculating sigma for resistance \n",
    "def SigResistance():\n",
    "    p= 0.129\n",
    "    w = [53.62\t,54.44,\t52.10,\t57.60] #4 6 8 2\n",
    "    L = [30151.32, 22137.34, 21211.6, 12372.68] \n",
    "    t = [ 36, 48.44 , 52.10 , 57.60 ] \n",
    "    sigL = [ 32.038 , 31.554 , 58.335 , 48.044 ]\n",
    "    sigw = [15.60871551\t,6.277977381,\t12.3298013\t,14.40381894]\n",
    "    sigt = [8.94427191\t,10.29626146\t,12.3298013\t,14.40381894]\n",
    "\n",
    "    SigL = []\n",
    "\n",
    "    for i in range(4):\n",
    "        SigL.append(((p*sigL[i])/(w[i]*t[i]))**2 + ((p*L[i]*sigw[i])/(w[i]**2*t[i]))**2 + ((p*L[i]*sigt[i])/(w[i]*t[i]**2))**2)\n",
    "\n",
    "    print(np.sqrt(SigL))\n"
   ]
  },
  {
   "cell_type": "code",
   "execution_count": 19,
   "metadata": {},
   "outputs": [
    {
     "name": "stdout",
     "output_type": "stream",
     "text": [
      "[0.77114869 0.26187884 0.33739272 0.17013939]\n"
     ]
    }
   ],
   "source": [
    "SigResistance()"
   ]
  },
  {
   "cell_type": "code",
   "execution_count": 20,
   "metadata": {},
   "outputs": [],
   "source": [
    "#calculating sigma for reference resistance \n",
    "def SigResistanceRef():\n",
    "    p = 0.129\n",
    "    w = []\n",
    "    L = []\n",
    "    t = []\n",
    "    sigLRef = []\n",
    "    sigwRef = []\n",
    "    sigtRef = []\n",
    "    SigRef = []\n",
    "    for i in range(4):\n",
    "        SigRef.append(((p*sigLRef[i])/(w[i]*t[i]))**2 + ((p*L[i]*sigwRef[i])/(w[i]**2*t[i]))**2 + ((p*L[i]*sigtRef[i])/(w[i]*t[i]**2))**2)\n",
    "\n",
    "    "
   ]
  },
  {
   "cell_type": "code",
   "execution_count": null,
   "metadata": {},
   "outputs": [],
   "source": []
  },
  {
   "cell_type": "code",
   "execution_count": 21,
   "metadata": {},
   "outputs": [],
   "source": [
    "def eL():\n",
    "    Le= [30151.32, 22137.34, 21211.6, 12372.68]\n",
    "    Lth=[30240, 22180, 21300, 12350]\n",
    "    eL=[]\n",
    "    for i in range(4):\n",
    "        eL.append(((Le[i]-Lth[i])/Le[i])*100)\n",
    "    print(eL)"
   ]
  },
  {
   "cell_type": "code",
   "execution_count": 22,
   "metadata": {},
   "outputs": [
    {
     "name": "stdout",
     "output_type": "stream",
     "text": [
      "[-0.29411647649257244, -0.19270607941152754, -0.4167530973618278, 0.1833070927236483]\n"
     ]
    }
   ],
   "source": [
    "eL()"
   ]
  },
  {
   "cell_type": "code",
   "execution_count": 23,
   "metadata": {},
   "outputs": [],
   "source": [
    "#calculate resistivity\n",
    "def resistivity():\n",
    "    R=[ 1.00806 ,1.0829 , 2.015, 0.481 ] #8 6 4 2\n",
    "    w=[52.10, 54.44 , 53.62 ,57.60]\n",
    "    t=[52.10 , 48.44 , 36 , 57.60 ]\n",
    "    Le=[21211.6, 22137.34, 30151.31, 12372.68]\n",
    "    p=[]\n",
    "    for i in range(4):\n",
    "        p.append((R[i]*w[i]*t[i])/Le[i])\n",
    "    print(p)"
   ]
  },
  {
   "cell_type": "code",
   "execution_count": 24,
   "metadata": {},
   "outputs": [
    {
     "name": "stdout",
     "output_type": "stream",
     "text": [
      "[0.12899961080729413, 0.12899865121283766, 0.129002514318615, 0.12898115525496498]\n"
     ]
    }
   ],
   "source": [
    "resistivity()"
   ]
  },
  {
   "cell_type": "code",
   "execution_count": 25,
   "metadata": {},
   "outputs": [],
   "source": [
    "#calculate standard deviation for resistivity\n",
    "def sigmaResistivity():\n",
    "    R=[ 1.00806 ,1.0829 , 2.015, 0.481 ] #8 6 4 2\n",
    "    w=[52.10, 54.44 , 53.62 ,57.60]\n",
    "    t=[52.10 , 48.44 , 36 , 57.60 ]\n",
    "    Le=[21211.6, 22137.34, 30151.31, 12372.68]\n",
    "    sigRref=[2.241855965\t,2.065911131\t,1.724261291,\t1.558858974]\n",
    "    sigL = [  31.554 ,32.038, 58.335 , 48.044 ]\n",
    "    sigw = [\t6.277977381, 12.3298013, 15.60871551\t,14.40381894]\n",
    "    sigt = [10.29626146\t,12.3298013\t,8.94427191\t,14.40381894]\n",
    "\n",
    "    sigR = []\n",
    "    for i in range(4):\n",
    "        sigR.append(((w[i]*t[i])/(Le[i])*sigRref[i])**2 + \n",
    "                    ((R[i]*t[i])/(Le[i])*sigw[i])**2 + \n",
    "                    ((R[i]*w[i])/(Le[i])*sigt[i])**2 + \n",
    "                    ((-R[i]*w[i]*t[i])/(Le[i]**2)*sigL[i])**2)\n",
    "    print(np.sqrt(sigR))"
   ]
  },
  {
   "cell_type": "code",
   "execution_count": 26,
   "metadata": {},
   "outputs": [
    {
     "name": "stdout",
     "output_type": "stream",
     "text": [
      "[0.28843595 0.24999217 0.1209267  0.42049294]\n"
     ]
    }
   ],
   "source": [
    "sigmaResistivity()"
   ]
  },
  {
   "cell_type": "code",
   "execution_count": 32,
   "metadata": {},
   "outputs": [],
   "source": [
    "#width of the membrane \n",
    "def width():\n",
    "    wm=[52.10/1000, 54.44/1000 , 53.62/1000 ,57.60/1000] #8 6 4 2\n",
    "    z= [0.5,0.5,0.5,0.5]\n",
    "    w0=[]\n",
    "    for i in range(4):\n",
    "        w0.append(wm[i]-z[i]*np.sqrt(2))\n",
    "    print(w0)\n",
    "\n"
   ]
  },
  {
   "cell_type": "code",
   "execution_count": 33,
   "metadata": {},
   "outputs": [
    {
     "name": "stdout",
     "output_type": "stream",
     "text": [
      "[-0.6550067811865475, -0.6526667811865475, -0.6534867811865476, -0.6495067811865476]\n"
     ]
    }
   ],
   "source": [
    "width()"
   ]
  },
  {
   "cell_type": "code",
   "execution_count": 27,
   "metadata": {},
   "outputs": [
    {
     "ename": "IndexError",
     "evalue": "list index out of range",
     "output_type": "error",
     "traceback": [
      "\u001b[0;31m---------------------------------------------------------------------------\u001b[0m",
      "\u001b[0;31mIndexError\u001b[0m                                Traceback (most recent call last)",
      "Cell \u001b[0;32mIn[27], line 19\u001b[0m\n\u001b[1;32m     17\u001b[0m \u001b[38;5;28;01mfor\u001b[39;00m i, x \u001b[38;5;129;01min\u001b[39;00m \u001b[38;5;28menumerate\u001b[39m(x_values):\n\u001b[1;32m     18\u001b[0m     \u001b[38;5;28;01mfor\u001b[39;00m j, y \u001b[38;5;129;01min\u001b[39;00m \u001b[38;5;28menumerate\u001b[39m(y_values):\n\u001b[0;32m---> 19\u001b[0m         z \u001b[38;5;241m=\u001b[39m \u001b[43mz_values\u001b[49m\u001b[43m[\u001b[49m\u001b[43mi\u001b[49m\u001b[43m \u001b[49m\u001b[38;5;241;43m*\u001b[39;49m\u001b[43m \u001b[49m\u001b[38;5;28;43mlen\u001b[39;49m\u001b[43m(\u001b[49m\u001b[43my_values\u001b[49m\u001b[43m)\u001b[49m\u001b[43m \u001b[49m\u001b[38;5;241;43m+\u001b[39;49m\u001b[43m \u001b[49m\u001b[43mj\u001b[49m\u001b[43m]\u001b[49m  \u001b[38;5;66;03m# Calculate the index for z_values\u001b[39;00m\n\u001b[1;32m     20\u001b[0m         ax\u001b[38;5;241m.\u001b[39mbar3d(x \u001b[38;5;241m+\u001b[39m z_step \u001b[38;5;241m*\u001b[39m i, y \u001b[38;5;241m+\u001b[39m z_step \u001b[38;5;241m*\u001b[39m j, \u001b[38;5;241m0\u001b[39m, \u001b[38;5;241m0.1\u001b[39m, \u001b[38;5;241m0.1\u001b[39m, z, shade\u001b[38;5;241m=\u001b[39m\u001b[38;5;28;01mTrue\u001b[39;00m)\n\u001b[1;32m     22\u001b[0m \u001b[38;5;66;03m# Set labels and title\u001b[39;00m\n",
      "\u001b[0;31mIndexError\u001b[0m: list index out of range"
     ]
    },
    {
     "data": {
      "image/png": "[encoded data removed]",
      "text/plain": [
       "<Figure size 640x480 with 1 Axes>"
      ]
     },
     "metadata": {},
     "output_type": "display_data"
    }
   ],
   "source": [
    "import numpy as np\n",
    "import matplotlib.pyplot as plt\n",
    "\n",
    "# Data for the staggered bar graph\n",
    "x_values = np.arange(8)  # 10 bars along the x-axis\n",
    "y_values = np.arange(8)  # 10 bars along the y-axis\n",
    "z_values = [38,39,39,39,40,40,40,40,40,40,41,41,41,43,43,43,44,44,45,45,45]  # Z-axis values for each bar\n",
    "\n",
    "# Create 3D staggered bar graph\n",
    "fig = plt.figure()\n",
    "ax = fig.add_subplot(111, projection='3d')\n",
    "\n",
    "# Define smaller step size for the z-axis\n",
    "z_step = 0.05  # Smaller step size\n",
    "\n",
    "# Loop through each bar position and plot it with a staggered offset\n",
    "for i, x in enumerate(x_values):\n",
    "    for j, y in enumerate(y_values):\n",
    "        z = z_values[i * len(y_values) + j]  # Calculate the index for z_values\n",
    "        ax.bar3d(x + z_step * i, y + z_step * j, 0, 0.1, 0.1, z, shade=True)\n",
    "\n",
    "# Set labels and title\n",
    "ax.set_xlabel('X Axis')\n",
    "ax.set_ylabel('Y Axis')\n",
    "ax.set_zlabel('Z Axis')\n",
    "ax.set_zlim((0,100))\n",
    "ax.set_title('3D Staggered Bar Graph for Deposition Thickness')\n",
    "\n",
    "plt.show()\n"
   ]
  },
  {
   "cell_type": "code",
   "execution_count": null,
   "metadata": {},
   "outputs": [],
   "source": []
  }
 ],
 "metadata": {
  "kernelspec": {
   "display_name": "Python 3",
   "language": "python",
   "name": "python3"
  },
  "language_info": {
   "codemirror_mode": {
    "name": "ipython",
    "version": 3
   },
   "file_extension": ".py",
   "mimetype": "text/x-python",
   "name": "python",
   "nbconvert_exporter": "python",
   "pygments_lexer": "ipython3",
   "version": "3.12.1"
  }
 },
 "nbformat": 4,
 "nbformat_minor": 2
}
